{
 "cells": [
  {
   "cell_type": "markdown",
   "metadata": {},
   "source": [
    "## Sariyer Academy Research and Production focused AI Education Examination\n"
   ]
  },
  {
   "cell_type": "markdown",
   "metadata": {},
   "source": [
    "The project idea is creating a simple recomendation engine based of user single answer.\n"
   ]
  },
  {
   "cell_type": "markdown",
   "metadata": {},
   "source": [
    " "
   ]
  },
  {
   "cell_type": "markdown",
   "metadata": {},
   "source": [
    "### Introduction"
   ]
  },
  {
   "cell_type": "markdown",
   "metadata": {},
   "source": [
    "* [Preperation of the Data](#Preperations)\n",
    "    * [Manipulation and Storing the sentences](#Manipulation-Data)\n",
    "    \n",
    "         Create list of setences from example and make a category list from all example sentences\n",
    "         \n",
    "            \n",
    "* [Using Algoritms and functions](#Algorithm)\n",
    "      Checking the user answer and If the user had answer only a single word then should recomend a random                     sentence from same category. If the user answers a long sentence then we should use the Jaccard Similarity \n",
    "* [Result](#Result) "
   ]
  },
  {
   "cell_type": "markdown",
   "metadata": {},
   "source": [
    " "
   ]
  },
  {
   "cell_type": "code",
   "execution_count": 1,
   "metadata": {},
   "outputs": [],
   "source": [
    "import pandas as pd\n",
    "import numpy as np\n",
    "import random\n",
    "import re"
   ]
  },
  {
   "cell_type": "code",
   "execution_count": 2,
   "metadata": {},
   "outputs": [],
   "source": [
    "import warnings\n",
    "warnings.filterwarnings('ignore')"
   ]
  },
  {
   "cell_type": "code",
   "execution_count": 3,
   "metadata": {},
   "outputs": [],
   "source": [
    "pd.options.display.max_colwidth = 300"
   ]
  },
  {
   "cell_type": "markdown",
   "metadata": {},
   "source": [
    "### Preperations"
   ]
  },
  {
   "cell_type": "markdown",
   "metadata": {},
   "source": [
    "We have Five different category of aphorism from Turkish language that \"Hayat\"(Life), \"Sevgi\"(Love), \"Gayret\"(Assiduity), \"Umut\"(Hope) and \"Idare\"(Management)"
   ]
  },
  {
   "cell_type": "code",
   "execution_count": 4,
   "metadata": {},
   "outputs": [],
   "source": [
    "Hayat = \"\"\"\n",
    "Olumlu düşünen, bütün olası dünyaların en iyisinde yaşadığımızı söyler ve olumsuz düşünen, bunun gerçek olmasından korkar. James Cabell\n",
    "\n",
    "Bu dünyaya gelmenin sadece tek bir yolu vardır, terk etmenin ise çok fazla yolu. Donald Harington\n",
    "\n",
    "Birisinin ‘Hayat zor.’ diye yakındığını duyduğumda, her zaman, ‘Neye kıyasla?’ diye sormayı isterim. Sidney Harris\n",
    "\n",
    "Mutsuz olmamamız gerekir. Kimsenin hayatla bir kontratı yok. DavidHeath\n",
    "\n",
    "Hayatını kazanırken yaşamasını bilmeyen bir adam, servetini kazanmadan öncesine göre daha fakirdir. Josiah Holland\n",
    "\n",
    "Yarının ne olacağını sormaktan vazgeç. Her gün, sana verilen bir hazinedir. Eline geçtikçe değerlendir. Horace\n",
    "\n",
    "Hayatınızı yaşamanın en iyi yolu, sizden sonra da kalıcı olacak şeyler için harcamaktır. William James\n",
    "\n",
    "Biz Japonlar, küçük zevklerden hoşlanırız, israftan değil. Daha fazlasını karşılayabilirse de, insanın basit bir yaşam tarzı olması kanısındayım. Massaru Ibuka\n",
    "\n",
    "Benim sanatım ve mesleğim yaşamaktır. Montaigne\n",
    "\n",
    "Hayat, çikolata ile dolu bir kutu gibidir. Ne çıkacağını asla bilemezsiniz. Forrest Gump Filmi\n",
    "\n",
    "Hayat, büyük bir sürprizdir. Ölümün neden daha büyük bir sürpriz olması gerektiğini anlayamıyorum. Vladimir Nabokov\n",
    "\"\"\""
   ]
  },
  {
   "cell_type": "code",
   "execution_count": 5,
   "metadata": {},
   "outputs": [],
   "source": [
    "Sevgi = \"\"\"\n",
    "Karım,  benim  ‘Seni seviyorum.’  dememi binlerce kez duydu ama, hiçbir zaman ‘Üzgünüm.’ dediğimi duymadı. Bruce Willis\n",
    "\n",
    "Büyüklerine saygı, küçüklerine şevkat göstermeyenler, bizden değildir. Hz, Muhammed\n",
    "\n",
    "Sevip de kaybetmek, sevmemiş olmaktan daha iyidir. Seneca\n",
    "\n",
    "Sevgiyle düşünün, sevgiyle konuşun, sevgiyle davranın. Her ihtiyaç karşılanacaktır. James Ailen\n",
    "\n",
    "Sevgi, insanı birliğe, bencillik ise yalnızlığa götürür. Schiller\n",
    "\n",
    "Sevdiği kadını ve sevdiği işi bulan bir erkek, yeryüzünde cenneti bulmuş demektir. Helen Rowland\n",
    "\n",
    "Kızgınlık, kırgınlık ya da acıya tutunmayın. Enerjinizi çalarlar ve sizi sevmekten alıkoyarlar. Leo Buscaglia\n",
    "\n",
    "Herkes temel bir şeyi unutuyor; insanlar sizi, siz onları sevmeden sevmeyecekler. Pat Carroll\n",
    "\n",
    "Sevgi, dünyadaki yaşamın aktığı nehirdir. Henry Beecher\n",
    "\n",
    "Sevmeden verebilirsiniz ama, vermeden sevemezsiniz. Amy Carmichael\n",
    "\n",
    "\"\"\""
   ]
  },
  {
   "cell_type": "code",
   "execution_count": 6,
   "metadata": {},
   "outputs": [],
   "source": [
    "Gayret = \"\"\"\n",
    "Dileyin verilecektir; arayın bulacaksınız; kapıyı çalın size açılacaktır.    Hz.İsa (a.s.)\n",
    "\n",
    "Damlayan su, mermeri, yürüyen de dağları deler. Ovidius\n",
    "\n",
    "Hazine, eziyet çekene gözükür.    Hz. Mevlâna\n",
    "\n",
    "Beklenen gün gelecekse, çekilen çile kutsaldır.V. Hugo\n",
    "\n",
    "Yarınlar yorgun ve bezgin kimseler değil, rahatını terk edebilen gayretli insanlara aittir. Cicero\n",
    "\n",
    "Emek olmadan, yemek olmaz.    Atasözü\n",
    "\n",
    "Kötülüğün hakim olmaması için tek şart, iyilerin gayret göstermeleridir. Kelâmı Kibar\n",
    "\n",
    "İnsan bir şeyi çok ciddi olarak arzu etmeye görsün; hiçbir şey erişilemeyecek kadar yükseklerde değildir. H. Andersen\n",
    "\n",
    "Ümitsizlik ve korkaklık, çalışma azminden yoksun insanlara göredir.  A. Mourois\n",
    "\n",
    "Bir çığlık, bir çığ meydana getirir.  Soljenitsin\n",
    "\n",
    "Kıramıyacağm zinciri, hiç olmazsa kemir. C. Şehabettin\n",
    "\n",
    "Basit bir insanın elinden geleni yapması; bilgili ve zeki bir insanın tembelliğinden çok daha değerlidir.\n",
    "\n",
    "Taşı delen, suyun kuvveti değil; dalgaların sürekliliğidir.\n",
    "\n",
    "Damlayan su, taşı deler. Ovidius\n",
    "\"\"\""
   ]
  },
  {
   "cell_type": "code",
   "execution_count": 7,
   "metadata": {},
   "outputs": [],
   "source": [
    "Umut = \"\"\"\n",
    "Başlangıçta fazla umut ederiz ama, sonrasında yeteri kadar değil. Joesph Roux\n",
    "\n",
    "Hayatta umutsuz durumlar yoktur,  sadece umutsuzluk besleyen insanlar vardır. Booth\n",
    "\n",
    "Şafaktan önce her yer karanlıktır. Katherine Mansfield\n",
    "\n",
    "Umut, gözle görülemeyeni görür, elle tutulamayanı hisseder ve imkansızı başarır. Anonim\n",
    "\n",
    "Büyük umutlar, büyük adamlar yaratır. Thomas Fuller\n",
    "\n",
    "Umut, fakirin ekmeğidir. Thales Miletus\n",
    "\n",
    "Kazanmayı umut etmeyen, daha baştan kaybetmiştir. Jose Olmedo\n",
    "\n",
    "Umut etmeyen, hiçbir zaman umutsuzluğa kapılmaz. George Bernard Shaw\n",
    "\n",
    "Hiçbir kış, sonsuza kadar sürmez. Hal Borland\n",
    "\n",
    "Umut, şüphe etmek daha kolayken, inanmaya devam etmektir. Anonim\n",
    "\n",
    "Umut, mutluluktan alınmış bir miktar borçtur. Joseph İoubert\n",
    "\"\"\""
   ]
  },
  {
   "cell_type": "code",
   "execution_count": 8,
   "metadata": {},
   "outputs": [],
   "source": [
    "Idare = \"\"\"\n",
    "Çok söyleyen değil, çok iş yapan yöneticiye muhtaçsınız. Hz. Ömer (r.a.)\n",
    "\n",
    "Sevginin kurduğu devleti, adalet devam ettirir. Farabi\n",
    "\n",
    "Her memleketin hakettiği bir hükümeti vardır. J. Maistere\n",
    "\n",
    "Hükümetlerin en kötüsü, suçsuzu korkutandır.\n",
    "\n",
    "Kendinizi yönetirken kafanızı, başkalarını yönetirken kalbinizi kullanın.\n",
    "\n",
    "Evi ev eden avrat, yurdu şen eden devlet. Atasözü\n",
    "\n",
    "Mal cimrilerde, silah korkanlarda, idare de zayıflarda olursa, işler bozulur. Hz. Ebubekir\n",
    "\n",
    "İnsanlar üç sınıftır: İdareciler, din alimleri ve halk. İdareciler bozulunca, geçim; alimler bozulunca, din; halk bozulunca da hak bozulur. Ebu Bekir Verrak\n",
    "\n",
    "Kendini yönet, dünyayı yönetecek gücü bulabilirsin. Plato\n",
    "\n",
    "Kötü idarecilerin başarısı, halkın ıstırabıdır.\n",
    "\n",
    "Bir memlekette ayaklar baş olursa, başlar ayaklar altında mahvolur.\n",
    "\n",
    "\"\"\""
   ]
  },
  {
   "cell_type": "code",
   "execution_count": 9,
   "metadata": {},
   "outputs": [],
   "source": [
    "# We need to add all list a single list and create each category names \n",
    "categories = [Hayat,Sevgi,Gayret,Umut,Idare]\n",
    "categories_name = [\"Hayat\", \"Sevgi\",\"Gayret\",\"Umut\",\"Idare\"]"
   ]
  },
  {
   "cell_type": "markdown",
   "metadata": {},
   "source": [
    "### Manipulation-Data"
   ]
  },
  {
   "cell_type": "code",
   "execution_count": 10,
   "metadata": {},
   "outputs": [],
   "source": [
    "# Split each row with new line (\\n) \n",
    "for i in range(len(categories)):\n",
    "    categories[i] = categories[i].split(\"\\n\")\n",
    "    "
   ]
  },
  {
   "cell_type": "code",
   "execution_count": 11,
   "metadata": {},
   "outputs": [],
   "source": [
    "# Create a dataframe\n",
    "df = []\n",
    "df = pd.DataFrame(df, columns=['sentence','category'])\n"
   ]
  },
  {
   "cell_type": "code",
   "execution_count": 12,
   "metadata": {},
   "outputs": [],
   "source": [
    "# Add each sentence to Dataframe (df) with the category names\n",
    "for i in range(len(categories_name)):\n",
    "    for k in range(len(categories[i])):\n",
    "        df = df.append({'sentence': categories[i][k], 'category': categories_name[i]}, ignore_index=True)\n",
    "    \n",
    "    df = df[df['sentence']!=\"\"]\n",
    "    df.reset_index(drop=True, inplace=True)\n",
    "    \n",
    "  "
   ]
  },
  {
   "cell_type": "code",
   "execution_count": 13,
   "metadata": {},
   "outputs": [],
   "source": [
    "df[\"cleaned\"]=df['sentence'].iloc[:].copy()"
   ]
  },
  {
   "cell_type": "markdown",
   "metadata": {},
   "source": [
    "### Algorithm"
   ]
  },
  {
   "cell_type": "code",
   "execution_count": 14,
   "metadata": {},
   "outputs": [],
   "source": [
    "\n",
    "def give_a_recomendation():\n",
    "    result = []\n",
    "    answer = input(\"Hi Human, What do you want? \")\n",
    "    # We need to turn lowercase  user answer for correct proportions\n",
    "    answer=answer.lower()\n",
    "  \n",
    " \n",
    " # One of the main reques is If not a word use Jaccard similarity. \n",
    " # We count user answer words and if it is more than one word and use Jaccard similarity\n",
    " \n",
    "    if len(answer.split())>1:\n",
    "        # Jaccard Similarity\n",
    "        for i in range(len(df)):\n",
    "            # We need a new column with a clean words from any symbols\n",
    "            # Jaccard similarity\n",
    "            df[\"cleaned\"][i] = re.sub('[!@#’‘?.,\\'$]', '', df[\"cleaned\"][i])\n",
    "            a = set(df[\"cleaned\"][i].lower().split()) \n",
    "            b = set(answer.split())\n",
    "            c = a.intersection(b)\n",
    "            result.append(float(len(c)) / (len(a) + len(b) - len(c)))\n",
    "        # We add all result in a new column that we can find any of result    \n",
    "        pd.DataFrame(result)   \n",
    "        df['result'] = result\n",
    "        # Return as max result row sentence \n",
    "        return df[df['result']==df['result'].max()].values[0][0]\n",
    "\n",
    "#    The second request is If User type a single word and the word is the same the category name \n",
    "#   and we will find a random word in the category\n",
    "    \n",
    "#    If only one word but not the same any category name then we can choose any random sentence in our data\n",
    "\n",
    "    else:\n",
    "        for i in categories_name:\n",
    "            i=i.lower()\n",
    "            if(i==answer):\n",
    "                return df[\"sentence\"][df[\"category\"].str.lower()==answer].sample(n=1).values[0]\n",
    "        return df[\"sentence\"].sample(n=1).values[0]\n",
    "        "
   ]
  },
  {
   "cell_type": "markdown",
   "metadata": {},
   "source": [
    "### Result"
   ]
  },
  {
   "cell_type": "markdown",
   "metadata": {},
   "source": [
    "Summary of the final dataframe "
   ]
  },
  {
   "cell_type": "code",
   "execution_count": 15,
   "metadata": {},
   "outputs": [
    {
     "data": {
      "text/html": [
       "<div>\n",
       "<style scoped>\n",
       "    .dataframe tbody tr th:only-of-type {\n",
       "        vertical-align: middle;\n",
       "    }\n",
       "\n",
       "    .dataframe tbody tr th {\n",
       "        vertical-align: top;\n",
       "    }\n",
       "\n",
       "    .dataframe thead th {\n",
       "        text-align: right;\n",
       "    }\n",
       "</style>\n",
       "<table border=\"1\" class=\"dataframe\">\n",
       "  <thead>\n",
       "    <tr style=\"text-align: right;\">\n",
       "      <th></th>\n",
       "      <th>sentence</th>\n",
       "      <th>category</th>\n",
       "      <th>cleaned</th>\n",
       "    </tr>\n",
       "  </thead>\n",
       "  <tbody>\n",
       "    <tr>\n",
       "      <th>0</th>\n",
       "      <td>Olumlu düşünen, bütün olası dünyaların en iyisinde yaşadığımızı söyler ve olumsuz düşünen, bunun gerçek olmasından korkar. James Cabell</td>\n",
       "      <td>Hayat</td>\n",
       "      <td>Olumlu düşünen, bütün olası dünyaların en iyisinde yaşadığımızı söyler ve olumsuz düşünen, bunun gerçek olmasından korkar. James Cabell</td>\n",
       "    </tr>\n",
       "    <tr>\n",
       "      <th>1</th>\n",
       "      <td>Bu dünyaya gelmenin sadece tek bir yolu vardır, terk etmenin ise çok fazla yolu. Donald Harington</td>\n",
       "      <td>Hayat</td>\n",
       "      <td>Bu dünyaya gelmenin sadece tek bir yolu vardır, terk etmenin ise çok fazla yolu. Donald Harington</td>\n",
       "    </tr>\n",
       "    <tr>\n",
       "      <th>2</th>\n",
       "      <td>Birisinin ‘Hayat zor.’ diye yakındığını duyduğumda, her zaman, ‘Neye kıyasla?’ diye sormayı isterim. Sidney Harris</td>\n",
       "      <td>Hayat</td>\n",
       "      <td>Birisinin ‘Hayat zor.’ diye yakındığını duyduğumda, her zaman, ‘Neye kıyasla?’ diye sormayı isterim. Sidney Harris</td>\n",
       "    </tr>\n",
       "    <tr>\n",
       "      <th>3</th>\n",
       "      <td>Mutsuz olmamamız gerekir. Kimsenin hayatla bir kontratı yok. DavidHeath</td>\n",
       "      <td>Hayat</td>\n",
       "      <td>Mutsuz olmamamız gerekir. Kimsenin hayatla bir kontratı yok. DavidHeath</td>\n",
       "    </tr>\n",
       "    <tr>\n",
       "      <th>4</th>\n",
       "      <td>Hayatını kazanırken yaşamasını bilmeyen bir adam, servetini kazanmadan öncesine göre daha fakirdir. Josiah Holland</td>\n",
       "      <td>Hayat</td>\n",
       "      <td>Hayatını kazanırken yaşamasını bilmeyen bir adam, servetini kazanmadan öncesine göre daha fakirdir. Josiah Holland</td>\n",
       "    </tr>\n",
       "  </tbody>\n",
       "</table>\n",
       "</div>"
      ],
      "text/plain": [
       "                                                                                                                                  sentence  \\\n",
       "0  Olumlu düşünen, bütün olası dünyaların en iyisinde yaşadığımızı söyler ve olumsuz düşünen, bunun gerçek olmasından korkar. James Cabell   \n",
       "1                                        Bu dünyaya gelmenin sadece tek bir yolu vardır, terk etmenin ise çok fazla yolu. Donald Harington   \n",
       "2                       Birisinin ‘Hayat zor.’ diye yakındığını duyduğumda, her zaman, ‘Neye kıyasla?’ diye sormayı isterim. Sidney Harris   \n",
       "3                                                                  Mutsuz olmamamız gerekir. Kimsenin hayatla bir kontratı yok. DavidHeath   \n",
       "4                       Hayatını kazanırken yaşamasını bilmeyen bir adam, servetini kazanmadan öncesine göre daha fakirdir. Josiah Holland   \n",
       "\n",
       "  category  \\\n",
       "0    Hayat   \n",
       "1    Hayat   \n",
       "2    Hayat   \n",
       "3    Hayat   \n",
       "4    Hayat   \n",
       "\n",
       "                                                                                                                                   cleaned  \n",
       "0  Olumlu düşünen, bütün olası dünyaların en iyisinde yaşadığımızı söyler ve olumsuz düşünen, bunun gerçek olmasından korkar. James Cabell  \n",
       "1                                        Bu dünyaya gelmenin sadece tek bir yolu vardır, terk etmenin ise çok fazla yolu. Donald Harington  \n",
       "2                       Birisinin ‘Hayat zor.’ diye yakındığını duyduğumda, her zaman, ‘Neye kıyasla?’ diye sormayı isterim. Sidney Harris  \n",
       "3                                                                  Mutsuz olmamamız gerekir. Kimsenin hayatla bir kontratı yok. DavidHeath  \n",
       "4                       Hayatını kazanırken yaşamasını bilmeyen bir adam, servetini kazanmadan öncesine göre daha fakirdir. Josiah Holland  "
      ]
     },
     "execution_count": 15,
     "metadata": {},
     "output_type": "execute_result"
    }
   ],
   "source": [
    "df.head()"
   ]
  },
  {
   "cell_type": "markdown",
   "metadata": {},
   "source": [
    " "
   ]
  },
  {
   "cell_type": "markdown",
   "metadata": {},
   "source": [
    "<p>The project is a small daily challenge project from <a href=\"https://www.linkedin.com/in/uzay-çetin-b1a9ab100/\">Uzay Cetin</a>\n",
    "and his team. </p>\n",
    "<p>\n",
    "The project idea is to recommend an aphorism after Users input with using the Jaccard similarity and also the same category randomisation.\n",
    "\n",
    "The first step was cleaning and preparing the data for the programme.\n",
    "Then the programme checks user input as a sentence or a single word to recommend an aphorism.\n",
    "</p>\n",
    "\n",
    "Stored the same sentences with removing symbols and makes lowercase for increasing similarity between user input and display the original sentence.\n",
    "\n"
   ]
  },
  {
   "cell_type": "markdown",
   "metadata": {},
   "source": [
    " "
   ]
  },
  {
   "cell_type": "markdown",
   "metadata": {},
   "source": [
    "<div class=\"alert alert-success\" role=\"alert\">\n",
    "  Tell me something\n",
    "</div>\n"
   ]
  },
  {
   "cell_type": "code",
   "execution_count": 16,
   "metadata": {},
   "outputs": [
    {
     "name": "stdout",
     "output_type": "stream",
     "text": [
      "Hi Human, What do you want? Hayat zor\n"
     ]
    },
    {
     "data": {
      "text/plain": [
       "'Birisinin ‘Hayat zor.’ diye yakındığını duyduğumda, her zaman, ‘Neye kıyasla?’ diye sormayı isterim. Sidney Harris'"
      ]
     },
     "execution_count": 16,
     "metadata": {},
     "output_type": "execute_result"
    }
   ],
   "source": [
    "give_a_recomendation()\n",
    "\n"
   ]
  },
  {
   "cell_type": "code",
   "execution_count": null,
   "metadata": {},
   "outputs": [],
   "source": []
  },
  {
   "cell_type": "code",
   "execution_count": null,
   "metadata": {},
   "outputs": [],
   "source": []
  }
 ],
 "metadata": {
  "kernelspec": {
   "display_name": "Python 3",
   "language": "python",
   "name": "python3"
  },
  "language_info": {
   "codemirror_mode": {
    "name": "ipython",
    "version": 3
   },
   "file_extension": ".py",
   "mimetype": "text/x-python",
   "name": "python",
   "nbconvert_exporter": "python",
   "pygments_lexer": "ipython3",
   "version": "3.7.1"
  }
 },
 "nbformat": 4,
 "nbformat_minor": 2
}
